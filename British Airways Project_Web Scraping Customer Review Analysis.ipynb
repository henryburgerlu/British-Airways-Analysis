{
 "cells": [
  {
   "cell_type": "markdown",
   "metadata": {
    "tags": []
   },
   "source": [
    "### Scraping data from Skytrax\n",
    "\n",
    "Data source: [ https://www.airlinequality.com/airline-reviews/british-airways ]"
   ]
  },
  {
   "cell_type": "code",
   "execution_count": 1,
   "metadata": {},
   "outputs": [],
   "source": [
    "import requests\n",
    "from bs4 import BeautifulSoup\n",
    "import pandas as pd\n",
    "import re\n",
    "from sklearn.feature_extraction.text import CountVectorizer\n",
    "from sklearn.decomposition import LatentDirichletAllocation as LDA\n",
    "from nltk.corpus import stopwords\n",
    "from nltk.tokenize import word_tokenize\n",
    "\n",
    "from textblob import TextBlob"
   ]
  },
  {
   "cell_type": "code",
   "execution_count": 2,
   "metadata": {},
   "outputs": [
    {
     "name": "stdout",
     "output_type": "stream",
     "text": [
      "Scraping page 1\n",
      "   ---> 200 total reviews\n",
      "Scraping page 2\n",
      "   ---> 400 total reviews\n",
      "Scraping page 3\n",
      "   ---> 600 total reviews\n",
      "Scraping page 4\n",
      "   ---> 800 total reviews\n",
      "Scraping page 5\n",
      "   ---> 1000 total reviews\n",
      "Scraping page 6\n",
      "   ---> 1200 total reviews\n",
      "Scraping page 7\n",
      "   ---> 1400 total reviews\n",
      "Scraping page 8\n",
      "   ---> 1600 total reviews\n",
      "Scraping page 9\n",
      "   ---> 1800 total reviews\n",
      "Scraping page 10\n",
      "   ---> 2000 total reviews\n",
      "Scraping page 11\n",
      "   ---> 2200 total reviews\n",
      "Scraping page 12\n",
      "   ---> 2400 total reviews\n",
      "Scraping page 13\n",
      "   ---> 2600 total reviews\n",
      "Scraping page 14\n",
      "   ---> 2800 total reviews\n",
      "Scraping page 15\n",
      "   ---> 3000 total reviews\n",
      "Scraping page 16\n",
      "   ---> 3200 total reviews\n",
      "Scraping page 17\n",
      "   ---> 3400 total reviews\n",
      "Scraping page 18\n",
      "   ---> 3600 total reviews\n",
      "Scraping page 19\n",
      "   ---> 3800 total reviews\n",
      "Scraping page 20\n",
      "   ---> 3937 total reviews\n"
     ]
    }
   ],
   "source": [
    "base_url = \"https://www.airlinequality.com/airline-reviews/british-airways\"\n",
    "pages = 20\n",
    "page_size = 200\n",
    "\n",
    "reviews = []\n",
    "\n",
    "# Scraping reviews from multiple pages\n",
    "for i in range(1, pages + 1):\n",
    "    print(f\"Scraping page {i}\")\n",
    "    url = f\"{base_url}/page/{i}/?sortby=post_date%3ADesc&pagesize={page_size}\"\n",
    "    response = requests.get(url)\n",
    "    content = response.content\n",
    "    parsed_content = BeautifulSoup(content, 'html.parser')\n",
    "    for para in parsed_content.find_all(\"div\", {\"class\": \"text_content\"}):\n",
    "        reviews.append(para.get_text())\n",
    "    print(f\"   ---> {len(reviews)} total reviews\")\n"
   ]
  },
  {
   "cell_type": "code",
   "execution_count": 3,
   "metadata": {},
   "outputs": [
    {
     "data": {
      "text/html": [
       "<div>\n",
       "<style scoped>\n",
       "    .dataframe tbody tr th:only-of-type {\n",
       "        vertical-align: middle;\n",
       "    }\n",
       "\n",
       "    .dataframe tbody tr th {\n",
       "        vertical-align: top;\n",
       "    }\n",
       "\n",
       "    .dataframe thead th {\n",
       "        text-align: right;\n",
       "    }\n",
       "</style>\n",
       "<table border=\"1\" class=\"dataframe\">\n",
       "  <thead>\n",
       "    <tr style=\"text-align: right;\">\n",
       "      <th></th>\n",
       "      <th>reviews</th>\n",
       "    </tr>\n",
       "  </thead>\n",
       "  <tbody>\n",
       "    <tr>\n",
       "      <th>0</th>\n",
       "      <td>✅ Trip Verified |   I had an appalling experie...</td>\n",
       "    </tr>\n",
       "    <tr>\n",
       "      <th>1</th>\n",
       "      <td>Not Verified |  Good points, the cabin crew, t...</td>\n",
       "    </tr>\n",
       "    <tr>\n",
       "      <th>2</th>\n",
       "      <td>Not Verified |  It was a decent flight, reason...</td>\n",
       "    </tr>\n",
       "    <tr>\n",
       "      <th>3</th>\n",
       "      <td>✅ Trip Verified |   I really like flying Briti...</td>\n",
       "    </tr>\n",
       "    <tr>\n",
       "      <th>4</th>\n",
       "      <td>✅ Trip Verified |   Could not book online the ...</td>\n",
       "    </tr>\n",
       "  </tbody>\n",
       "</table>\n",
       "</div>"
      ],
      "text/plain": [
       "                                             reviews\n",
       "0  ✅ Trip Verified |   I had an appalling experie...\n",
       "1  Not Verified |  Good points, the cabin crew, t...\n",
       "2  Not Verified |  It was a decent flight, reason...\n",
       "3  ✅ Trip Verified |   I really like flying Briti...\n",
       "4  ✅ Trip Verified |   Could not book online the ..."
      ]
     },
     "execution_count": 3,
     "metadata": {},
     "output_type": "execute_result"
    }
   ],
   "source": [
    "df = pd.DataFrame()\n",
    "df[\"reviews\"] = reviews\n",
    "df.head()"
   ]
  },
  {
   "cell_type": "code",
   "execution_count": 4,
   "metadata": {},
   "outputs": [],
   "source": [
    "df.to_csv(\"BA_reviews.csv\")"
   ]
  },
  {
   "cell_type": "markdown",
   "metadata": {},
   "source": [
    "Congratulations! Now you have your dataset for this task! The loops above collected 1000 reviews by iterating through the paginated pages on the website. However, if you want to collect more data, try increasing the number of pages!\n",
    "\n",
    " The next thing that you should do is clean this data to remove any unnecessary text from each of the rows. For example, \"✅ Trip Verified\" can be removed from each row if it exists, as it's not relevant to what we want to investigate."
   ]
  },
  {
   "cell_type": "markdown",
   "metadata": {},
   "source": [
    "## Clean Data"
   ]
  },
  {
   "cell_type": "code",
   "execution_count": 5,
   "metadata": {},
   "outputs": [
    {
     "data": {
      "text/html": [
       "<div>\n",
       "<style scoped>\n",
       "    .dataframe tbody tr th:only-of-type {\n",
       "        vertical-align: middle;\n",
       "    }\n",
       "\n",
       "    .dataframe tbody tr th {\n",
       "        vertical-align: top;\n",
       "    }\n",
       "\n",
       "    .dataframe thead th {\n",
       "        text-align: right;\n",
       "    }\n",
       "</style>\n",
       "<table border=\"1\" class=\"dataframe\">\n",
       "  <thead>\n",
       "    <tr style=\"text-align: right;\">\n",
       "      <th></th>\n",
       "      <th>Unnamed: 0</th>\n",
       "      <th>reviews</th>\n",
       "    </tr>\n",
       "  </thead>\n",
       "  <tbody>\n",
       "    <tr>\n",
       "      <th>0</th>\n",
       "      <td>0</td>\n",
       "      <td>✅ Trip Verified |   I had an appalling experie...</td>\n",
       "    </tr>\n",
       "    <tr>\n",
       "      <th>1</th>\n",
       "      <td>1</td>\n",
       "      <td>Not Verified |  Good points, the cabin crew, t...</td>\n",
       "    </tr>\n",
       "    <tr>\n",
       "      <th>2</th>\n",
       "      <td>2</td>\n",
       "      <td>Not Verified |  It was a decent flight, reason...</td>\n",
       "    </tr>\n",
       "    <tr>\n",
       "      <th>3</th>\n",
       "      <td>3</td>\n",
       "      <td>✅ Trip Verified |   I really like flying Briti...</td>\n",
       "    </tr>\n",
       "    <tr>\n",
       "      <th>4</th>\n",
       "      <td>4</td>\n",
       "      <td>✅ Trip Verified |   Could not book online the ...</td>\n",
       "    </tr>\n",
       "    <tr>\n",
       "      <th>5</th>\n",
       "      <td>5</td>\n",
       "      <td>✅ Trip Verified | Having had some rough experi...</td>\n",
       "    </tr>\n",
       "    <tr>\n",
       "      <th>6</th>\n",
       "      <td>6</td>\n",
       "      <td>✅ Trip Verified |   This comfortable flight wa...</td>\n",
       "    </tr>\n",
       "    <tr>\n",
       "      <th>7</th>\n",
       "      <td>7</td>\n",
       "      <td>✅ Trip Verified |   Punta Cana Terminal B chec...</td>\n",
       "    </tr>\n",
       "    <tr>\n",
       "      <th>8</th>\n",
       "      <td>8</td>\n",
       "      <td>✅ Trip Verified |   The employee at Venice Air...</td>\n",
       "    </tr>\n",
       "    <tr>\n",
       "      <th>9</th>\n",
       "      <td>9</td>\n",
       "      <td>✅ Trip Verified |   I had only 1 bag with me, ...</td>\n",
       "    </tr>\n",
       "  </tbody>\n",
       "</table>\n",
       "</div>"
      ],
      "text/plain": [
       "   Unnamed: 0                                            reviews\n",
       "0           0  ✅ Trip Verified |   I had an appalling experie...\n",
       "1           1  Not Verified |  Good points, the cabin crew, t...\n",
       "2           2  Not Verified |  It was a decent flight, reason...\n",
       "3           3  ✅ Trip Verified |   I really like flying Briti...\n",
       "4           4  ✅ Trip Verified |   Could not book online the ...\n",
       "5           5  ✅ Trip Verified | Having had some rough experi...\n",
       "6           6  ✅ Trip Verified |   This comfortable flight wa...\n",
       "7           7  ✅ Trip Verified |   Punta Cana Terminal B chec...\n",
       "8           8  ✅ Trip Verified |   The employee at Venice Air...\n",
       "9           9  ✅ Trip Verified |   I had only 1 bag with me, ..."
      ]
     },
     "execution_count": 5,
     "metadata": {},
     "output_type": "execute_result"
    }
   ],
   "source": [
    "df = pd.read_csv('BA_reviews.csv')\n",
    "df.head(10)"
   ]
  },
  {
   "cell_type": "code",
   "execution_count": 6,
   "metadata": {},
   "outputs": [
    {
     "data": {
      "text/plain": [
       "(3937, 2)"
      ]
     },
     "execution_count": 6,
     "metadata": {},
     "output_type": "execute_result"
    }
   ],
   "source": [
    "df.shape"
   ]
  },
  {
   "cell_type": "markdown",
   "metadata": {},
   "source": [
    "## Topic Modeling"
   ]
  },
  {
   "cell_type": "code",
   "execution_count": 7,
   "metadata": {},
   "outputs": [],
   "source": [
    "## For Topic Modeling Example Reference\n",
    "# https://medium.com/@conniezhou678/unveiling-the-power-of-topic-modeling-on-text-data-enhancing-insights-with-manual-adjustments-564cee33ee18"
   ]
  },
  {
   "cell_type": "code",
   "execution_count": 8,
   "metadata": {},
   "outputs": [],
   "source": [
    "\n",
    "# Assuming df is your DataFrame and 'reviews' is the column with text data\n",
    "# Cleaning text data\n",
    "df['reviews'] = df['reviews'].astype(str)\n",
    "df['reviews'] = df['reviews'].str.lower().apply(lambda x: re.sub('[^\\w\\s]', '', x))\n",
    "# lambda x: ...: Defines an anonymous function that takes one argument, x. It doesn't have to be x, it can be any other english letter. \n",
    "# re.sub('[^\\w\\s]', '', x): Inside this function, x (the text string) is processed by re.sub:[^\\w\\s]: Matches any character that is not a word character or a whitespace.\n",
    "#'': Replaces these matched characters with an empty string (removes them).\n",
    "# .apply(lambda x: ...): Applies this lambda function to each element in the reviews column of the DataFrame.\n",
    "\n",
    "stop_words = set(stopwords.words('english'))\n",
    "additional_stopwords = ['customer','airline', 'flight', 'plane','review','didnt','people','however', 'way', 'ones', 'took', 'used', 'asking', 'back', 'however', 'seat', 'airport', 'board', 'travel', 'trip', 'experience','form', 'usually', 'helped','give','can','usual','online','werent','onto','given','cant','ever','get','verified','could','would','time','told','one','two','three','four','even','us',\n",
    "                        'presented','second','help','prepared','went','using', 'eventually', 'reviews','wouldnt','got','ba', 'forced', 'getting', 'service', 'staff', 'passenger', 'luggage', 'delay', 'cancellation', 'meal', 'entertainment', 'baggage', 'check-in', 'departure', 'arrival', 'evening', 'via', 'baby', 'use', 'offering','airways','british','offered','asked',]\n",
    "\n",
    "#Combine the two lists\n",
    "combined_stopwords = stop_words.union(additional_stopwords)\n",
    "\n",
    "#Convert the combined stopwords to a list\n",
    "combined_stopwords_list = list(combined_stopwords)\n",
    "\n",
    "df['reviews'] = df['reviews'].apply(lambda x: ' '.join(word for word in word_tokenize(x) if word not in stop_words))\n"
   ]
  },
  {
   "cell_type": "markdown",
   "metadata": {},
   "source": [
    "## Sentiment Analysis"
   ]
  },
  {
   "cell_type": "code",
   "execution_count": 9,
   "metadata": {},
   "outputs": [
    {
     "name": "stdout",
     "output_type": "stream",
     "text": [
      "Average sentiment polarity: 0.0945271599524233\n"
     ]
    }
   ],
   "source": [
    "from textblob import TextBlob\n",
    "\n",
    "df['sentiment'] = df['reviews'].apply(lambda x: TextBlob(x).sentiment.polarity)\n",
    "avg_sentiment = df['sentiment'].mean()\n",
    "print(\"Average sentiment polarity:\", df['sentiment'].mean())\n"
   ]
  },
  {
   "cell_type": "code",
   "execution_count": 10,
   "metadata": {},
   "outputs": [],
   "source": [
    "#  the average sentiment polarity is approximately 0.094. This value is slightly above zero, between -1 and 1, 1 being the best. \n",
    "#  suggesting that the overall sentiment expressed in the reviews is slightly positive. "
   ]
  },
  {
   "cell_type": "markdown",
   "metadata": {},
   "source": [
    "## Topic Modeling"
   ]
  },
  {
   "cell_type": "code",
   "execution_count": 11,
   "metadata": {},
   "outputs": [
    {
     "name": "stderr",
     "output_type": "stream",
     "text": [
      "/Users/henrylu/anaconda3/lib/python3.11/site-packages/sklearn/feature_extraction/text.py:402: UserWarning: Your stop_words may be inconsistent with your preprocessing. Tokenizing the stop words generated tokens ['check'] not in stop_words.\n",
      "  warnings.warn(\n"
     ]
    },
    {
     "name": "stdout",
     "output_type": "stream",
     "text": [
      "Topic #1:\n",
      "['fly', 'poor', 'economy', 'like', 'class', 'airlines', 'london', 'crew', 'cabin', 'food']\n",
      "Topic #2:\n",
      "['economy', 'world', 'cabin', 'first', 'food', 'good', 'seats', 'club', 'business', 'class']\n",
      "Topic #3:\n",
      "['another', 'call', 'heathrow', 'flights', 'check', 'cancelled', 'booked', 'day', 'hours', 'london']\n",
      "Topic #4:\n",
      "['crew', 'return', 'cabin', 'heathrow', 'hour', 'hours', 'london', 'economy', 'passengers', 'seats']\n",
      "Topic #5:\n",
      "['drinks', 'friendly', 'heathrow', 'london', 'lounge', 'boarding', 'food', 'cabin', 'crew', 'good']\n"
     ]
    }
   ],
   "source": [
    "\n",
    "# Vectorizing text data\n",
    "vectorizer = CountVectorizer(max_features=1000, lowercase=True, stop_words=combined_stopwords_list)\n",
    "\n",
    "dtm = vectorizer.fit_transform(df['reviews'])\n",
    "\n",
    "# Fitting LDA model\n",
    "lda = LDA(n_components=5, random_state=0)\n",
    "lda.fit(dtm)\n",
    "\n",
    "# Printing topics\n",
    "feature_names = vectorizer.get_feature_names_out()\n",
    "for topic_idx, topic in enumerate(lda.components_):\n",
    "    sorted_indices= topic.argsort()[::-1]#sort the topic in descending order. \n",
    "    top_indices = sorted_indices[:10] # get the indices of the top 10 words. \n",
    "    top_words=[feature_names[i] for i in top_indices]\n",
    "    top_words_freq=topic[top_indices]\n",
    "    \n",
    "    print(f\"Topic #{topic_idx+1}:\")\n",
    "    print([feature_names[i] for i in topic.argsort()[-10:]])\n"
   ]
  },
  {
   "cell_type": "code",
   "execution_count": 12,
   "metadata": {},
   "outputs": [],
   "source": [
    "#Summarizing Topics with Labels\n",
    "# Based on the interpretations, you might label the topics as follows:\n",
    "\n",
    "# Topic #1: Check-in and boarding experiences. \n",
    "# Topic #2: Positive about lounge and food and crew service. \n",
    "# Topic #3: In-flight dining positive experiences in business and first class cabin\n",
    "# Topic #4: Delays in London Heathrow airport.\n",
    "# Topic #5: Booking and Service Efficiency issue, negative.\n"
   ]
  },
  {
   "cell_type": "code",
   "execution_count": 13,
   "metadata": {},
   "outputs": [
    {
     "data": {
      "image/png": "[encoded data removed]",
      "text/plain": [
       "<Figure size 1200x600 with 1 Axes>"
      ]
     },
     "metadata": {},
     "output_type": "display_data"
    }
   ],
   "source": [
    "import matplotlib.pyplot as plt\n",
    "feature_names_df=pd.DataFrame({'Word':top_words,'Frequency':top_words_freq})\n",
    "\n",
    "# Plot the most common words\n",
    "plt.figure(figsize=(12, 6))\n",
    "plt.bar(feature_names_df['Word'], feature_names_df['Frequency'])\n",
    "plt.xlabel('Word')\n",
    "plt.ylabel('Frequency')\n",
    "plt.title('Most Common Words')\n",
    "plt.xticks(rotation=45)\n",
    "plt.show()"
   ]
  },
  {
   "cell_type": "markdown",
   "metadata": {},
   "source": [
    "# Conclusion: \n",
    "### Frequent mentions of “delayed,” “hours,” and “Heathrow” indicate frustration. Improve scheduling buffers, increase real-time communication, and work with Heathrow operations to streamline turnaround times\n",
    "\n",
    "### Topic #1 includes “economy” with words like “good” and “premium,” possibly signaling a comparison. Offer small enhancements in economy (e.g., free snacks, Wi-Fi trials) to boost perception without major cost.\n",
    "\n",
    "### Customers consistently mention staff friendliness and inflight experience positively.\n",
    "\n",
    "### Investing in boarding efficiency and airport operations could improve customer satisfaction.\n",
    "\n",
    "### Maintaining high standards of crew service and lounge experience is key to reinforcing positive brand perception.\n",
    "\n",
    "    "
   ]
  },
  {
   "cell_type": "code",
   "execution_count": null,
   "metadata": {},
   "outputs": [],
   "source": []
  },
  {
   "cell_type": "code",
   "execution_count": null,
   "metadata": {},
   "outputs": [],
   "source": []
  }
 ],
 "metadata": {
  "kernelspec": {
   "display_name": "Python 3 (ipykernel)",
   "language": "python",
   "name": "python3"
  },
  "language_info": {
   "codemirror_mode": {
    "name": "ipython",
    "version": 3
   },
   "file_extension": ".py",
   "mimetype": "text/x-python",
   "name": "python",
   "nbconvert_exporter": "python",
   "pygments_lexer": "ipython3",
   "version": "3.11.5"
  },
  "vscode": {
   "interpreter": {
    "hash": "4f7924c4c56b083e0e50eadfe7ef592a7a8ef70df33a0047f82280e6be1afe15"
   }
  }
 },
 "nbformat": 4,
 "nbformat_minor": 4
}
